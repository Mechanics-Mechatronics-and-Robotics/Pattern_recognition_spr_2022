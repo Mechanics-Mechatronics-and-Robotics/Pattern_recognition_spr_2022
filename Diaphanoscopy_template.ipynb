{
  "nbformat": 4,
  "nbformat_minor": 0,
  "metadata": {
    "colab": {
      "name": "IRI_defects_detection.ipynb",
      "provenance": [],
      "collapsed_sections": [],
      "authorship_tag": "ABX9TyOEdH1Mio4AwKBzj0hvDCYg",
      "include_colab_link": true
    },
    "kernelspec": {
      "name": "python3",
      "display_name": "Python 3"
    },
    "language_info": {
      "name": "python"
    },
    "accelerator": "GPU"
  },
  "cells": [
    {
      "cell_type": "markdown",
      "metadata": {
        "id": "view-in-github",
        "colab_type": "text"
      },
      "source": [
        "<a href=\"https://colab.research.google.com/github/Mechanics-Mechatronics-and-Robotics/Pattern_recognition_spr_2022/blob/main/Diaphanoscopy_template.ipynb\" target=\"_parent\"><img src=\"https://colab.research.google.com/assets/colab-badge.svg\" alt=\"Open In Colab\"/></a>"
      ]
    },
    {
      "cell_type": "markdown",
      "metadata": {
        "id": "PzgSi2dDmPkX"
      },
      "source": [
        "#Установка библиотек"
      ]
    },
    {
      "cell_type": "code",
      "metadata": {
        "id": "dTavFqfdlkSJ"
      },
      "source": [
        "!pip install -Uqq fastbook\n",
        "import fastbook\n",
        "fastbook.setup_book()"
      ],
      "execution_count": 136,
      "outputs": []
    },
    {
      "cell_type": "markdown",
      "metadata": {
        "id": "8Bo1Rkioo6V0"
      },
      "source": [
        "**Импорт библиотек**"
      ]
    },
    {
      "cell_type": "code",
      "metadata": {
        "id": "erMM9mqoo-fN"
      },
      "source": [
        "from fastai.vision.all import *"
      ],
      "execution_count": 137,
      "outputs": []
    },
    {
      "cell_type": "markdown",
      "metadata": {
        "id": "8MntOCaNpQQO"
      },
      "source": [
        "#Загрузка данных и формирование датасета"
      ]
    },
    {
      "cell_type": "code",
      "metadata": {
        "id": "6Lr_l20cpVel"
      },
      "source": [
        "#path =  Path('/content/gdrive/MyDrive/work/Pattern recognition/Practice_Bears')\n",
        "path = Path('/content/gdrive/MyDrive/work/Pattern recognition/Practice_Diaphanoscopy')"
      ],
      "execution_count": 138,
      "outputs": []
    },
    {
      "cell_type": "code",
      "metadata": {
        "colab": {
          "base_uri": "https://localhost:8080/"
        },
        "id": "PENVrfHVqAaE",
        "outputId": "3d3b136f-81dc-438d-f705-131fbfe0d3bf"
      },
      "source": [
        "path.ls()"
      ],
      "execution_count": 139,
      "outputs": [
        {
          "output_type": "execute_result",
          "data": {
            "text/plain": [
              "(#2) [Path('/content/gdrive/MyDrive/work/Pattern recognition/Practice_Diaphanoscopy/Patients'),Path('/content/gdrive/MyDrive/work/Pattern recognition/Practice_Diaphanoscopy/Healthy')]"
            ]
          },
          "metadata": {},
          "execution_count": 139
        }
      ]
    },
    {
      "cell_type": "markdown",
      "metadata": {
        "id": "m8a3cGJKqUn3"
      },
      "source": [
        "Считывание адресов файлов изображений"
      ]
    },
    {
      "cell_type": "code",
      "source": [
        ""
      ],
      "metadata": {
        "id": "VWMXIQcH-hFR"
      },
      "execution_count": 139,
      "outputs": []
    },
    {
      "cell_type": "code",
      "metadata": {
        "id": "1W7ZMw4EqYyG"
      },
      "source": [
        "files = get_image_files(path)"
      ],
      "execution_count": 140,
      "outputs": []
    },
    {
      "cell_type": "code",
      "metadata": {
        "colab": {
          "base_uri": "https://localhost:8080/"
        },
        "id": "PjtQBqkxqnXH",
        "outputId": "a90cef08-5c2b-4b17-adb2-76c1a0e95ef1"
      },
      "source": [
        "len(files)"
      ],
      "execution_count": 141,
      "outputs": [
        {
          "output_type": "execute_result",
          "data": {
            "text/plain": [
              "54"
            ]
          },
          "metadata": {},
          "execution_count": 141
        }
      ]
    },
    {
      "cell_type": "code",
      "metadata": {
        "colab": {
          "base_uri": "https://localhost:8080/"
        },
        "id": "CbMUE2XGqsCJ",
        "outputId": "794a46bd-1cb1-4720-ed90-43dafa7af85b"
      },
      "source": [
        "files[0],files[2]"
      ],
      "execution_count": 142,
      "outputs": [
        {
          "output_type": "execute_result",
          "data": {
            "text/plain": [
              "(Path('/content/gdrive/MyDrive/work/Pattern recognition/Practice_Diaphanoscopy/Patients/1_650_L40.bmp'),\n",
              " Path('/content/gdrive/MyDrive/work/Pattern recognition/Practice_Diaphanoscopy/Patients/3_650_L41.bmp'))"
            ]
          },
          "metadata": {},
          "execution_count": 142
        }
      ]
    },
    {
      "cell_type": "markdown",
      "metadata": {
        "id": "sDUvEl6stnY2"
      },
      "source": [
        "**Создание датасета**\n",
        "\n",
        "Используется DataBlock и DataLoader. Разметка данных осуществляется по названиям папок с помощью функции parent_label.\n",
        "\n"
      ]
    },
    {
      "cell_type": "code",
      "metadata": {
        "id": "UtpP5Duotqx7"
      },
      "source": [
        "ds = DataBlock(\n",
        "    blocks=(ImageBlock, CategoryBlock),\n",
        "    get_items=get_image_files,\n",
        "    splitter=RandomSplitter(valid_pct=0.25,seed=42),\n",
        "    get_y=parent_label)"
      ],
      "execution_count": 149,
      "outputs": []
    },
    {
      "cell_type": "markdown",
      "source": [
        "Аугментация данных\n",
        " https://docs.fast.ai/vision.augment.html"
      ],
      "metadata": {
        "id": "R-6j4PxeDvRf"
      }
    },
    {
      "cell_type": "code",
      "source": [
        "#??aug_transforms"
      ],
      "metadata": {
        "id": "AUz3OvRICoOB"
      },
      "execution_count": 150,
      "outputs": []
    },
    {
      "cell_type": "code",
      "metadata": {
        "id": "EkDUW28AJDfk"
      },
      "source": [
        "ds = ds.new(item_tfms=RandomResizedCrop(128, min_scale=0.6),\n",
        "            batch_tfms=aug_transforms(mult=1, do_flip=False, max_lighting=0.3, max_warp=0.1))"
      ],
      "execution_count": 151,
      "outputs": []
    },
    {
      "cell_type": "markdown",
      "source": [
        "Загрузка данных"
      ],
      "metadata": {
        "id": "VfkaNFL0D2Gn"
      }
    },
    {
      "cell_type": "code",
      "source": [
        "#??DataBlock.dataloaders"
      ],
      "metadata": {
        "id": "WldxoMguB7lp"
      },
      "execution_count": 152,
      "outputs": []
    },
    {
      "cell_type": "code",
      "metadata": {
        "id": "i4C6GNY8GDyg"
      },
      "source": [
        "dls = ds.dataloaders(path,bs=34,shuffle=True)"
      ],
      "execution_count": 153,
      "outputs": []
    },
    {
      "cell_type": "markdown",
      "metadata": {
        "id": "wysa6stkup1k"
      },
      "source": [
        "Просмотр примера изображений"
      ]
    },
    {
      "cell_type": "code",
      "metadata": {
        "colab": {
          "base_uri": "https://localhost:8080/",
          "height": 370
        },
        "id": "hhgHZIz1uzKN",
        "outputId": "6a74eae6-1816-4976-ccd7-137b67c3808c"
      },
      "source": [
        "dls.show_batch(max_n=8, nrows=2, unique=False)"
      ],
      "execution_count": 154,
      "outputs": [
        {
          "output_type": "display_data",
          "data": {
            "text/plain": [
              "<Figure size 864x432 with 8 Axes>"
            ],
            "image/png": "[encoded data removed]"
          },
          "metadata": {
            "needs_background": "light"
          }
        }
      ]
    },
    {
      "cell_type": "markdown",
      "metadata": {
        "id": "XyypoKHSwpmJ"
      },
      "source": [
        "#Обучение"
      ]
    },
    {
      "cell_type": "code",
      "metadata": {
        "id": "f9R7rIUei-QO"
      },
      "source": [
        "#??cnn_learner"
      ],
      "execution_count": 155,
      "outputs": []
    },
    {
      "cell_type": "code",
      "metadata": {
        "id": "CgsOH5uiwsUv"
      },
      "source": [
        "learn = cnn_learner(dls,resnet34,metrics=error_rate,pretrained=True,lr=1e-4)"
      ],
      "execution_count": 156,
      "outputs": []
    },
    {
      "cell_type": "markdown",
      "metadata": {
        "id": "aiZ63oOHl_DP"
      },
      "source": [
        "Целевая функция"
      ]
    },
    {
      "cell_type": "code",
      "metadata": {
        "id": "BwXSD7O9LbVD",
        "colab": {
          "base_uri": "https://localhost:8080/"
        },
        "outputId": "8a8d2376-e8a1-4fa4-fcfd-531d06b77c20"
      },
      "source": [
        "learn.loss_func"
      ],
      "execution_count": 157,
      "outputs": [
        {
          "output_type": "execute_result",
          "data": {
            "text/plain": [
              "FlattenedLoss of CrossEntropyLoss()"
            ]
          },
          "metadata": {},
          "execution_count": 157
        }
      ]
    },
    {
      "cell_type": "markdown",
      "metadata": {
        "id": "HFq7G8Yvl5TQ"
      },
      "source": [
        "Метод поиска экстремума"
      ]
    },
    {
      "cell_type": "code",
      "metadata": {
        "id": "XqP3iIRULg3z",
        "colab": {
          "base_uri": "https://localhost:8080/"
        },
        "outputId": "8f5c7e14-f94b-4ce0-822d-2ee1c30557cd"
      },
      "source": [
        "learn.opt_func"
      ],
      "execution_count": 158,
      "outputs": [
        {
          "output_type": "execute_result",
          "data": {
            "text/plain": [
              "<function fastai.optimizer.Adam>"
            ]
          },
          "metadata": {},
          "execution_count": 158
        }
      ]
    },
    {
      "cell_type": "markdown",
      "metadata": {
        "id": "JWLfjALIl1vQ"
      },
      "source": [
        "Подбор скорости обучения. Строку ниже можно закоментировать. "
      ]
    },
    {
      "cell_type": "code",
      "metadata": {
        "id": "d_4A_F92LkXe"
      },
      "source": [
        "# hide\n",
        "#learn.lr_find()"
      ],
      "execution_count": 159,
      "outputs": []
    },
    {
      "cell_type": "code",
      "metadata": {
        "id": "XUImeWRmLd-8",
        "colab": {
          "base_uri": "https://localhost:8080/",
          "height": 1000
        },
        "outputId": "112e8976-4926-4916-d5e1-2804ac9d9cdc"
      },
      "source": [
        "learn.fine_tune(45)"
      ],
      "execution_count": 160,
      "outputs": [
        {
          "output_type": "display_data",
          "data": {
            "text/plain": [
              "<IPython.core.display.HTML object>"
            ],
            "text/html": [
              "\n",
              "<style>\n",
              "    /* Turns off some styling */\n",
              "    progress {\n",
              "        /* gets rid of default border in Firefox and Opera. */\n",
              "        border: none;\n",
              "        /* Needs to be in here for Safari polyfill so background images work as expected. */\n",
              "        background-size: auto;\n",
              "    }\n",
              "    .progress-bar-interrupted, .progress-bar-interrupted::-webkit-progress-bar {\n",
              "        background: #F44336;\n",
              "    }\n",
              "</style>\n"
            ]
          },
          "metadata": {}
        },
        {
          "output_type": "display_data",
          "data": {
            "text/plain": [
              "<IPython.core.display.HTML object>"
            ],
            "text/html": [
              "<table border=\"1\" class=\"dataframe\">\n",
              "  <thead>\n",
              "    <tr style=\"text-align: left;\">\n",
              "      <th>epoch</th>\n",
              "      <th>train_loss</th>\n",
              "      <th>valid_loss</th>\n",
              "      <th>error_rate</th>\n",
              "      <th>time</th>\n",
              "    </tr>\n",
              "  </thead>\n",
              "  <tbody>\n",
              "    <tr>\n",
              "      <td>0</td>\n",
              "      <td>1.192027</td>\n",
              "      <td>0.886972</td>\n",
              "      <td>0.307692</td>\n",
              "      <td>00:02</td>\n",
              "    </tr>\n",
              "  </tbody>\n",
              "</table>"
            ]
          },
          "metadata": {}
        },
        {
          "output_type": "display_data",
          "data": {
            "text/plain": [
              "<IPython.core.display.HTML object>"
            ],
            "text/html": [
              "\n",
              "<style>\n",
              "    /* Turns off some styling */\n",
              "    progress {\n",
              "        /* gets rid of default border in Firefox and Opera. */\n",
              "        border: none;\n",
              "        /* Needs to be in here for Safari polyfill so background images work as expected. */\n",
              "        background-size: auto;\n",
              "    }\n",
              "    .progress-bar-interrupted, .progress-bar-interrupted::-webkit-progress-bar {\n",
              "        background: #F44336;\n",
              "    }\n",
              "</style>\n"
            ]
          },
          "metadata": {}
        },
        {
          "output_type": "display_data",
          "data": {
            "text/plain": [
              "<IPython.core.display.HTML object>"
            ],
            "text/html": [
              "<table border=\"1\" class=\"dataframe\">\n",
              "  <thead>\n",
              "    <tr style=\"text-align: left;\">\n",
              "      <th>epoch</th>\n",
              "      <th>train_loss</th>\n",
              "      <th>valid_loss</th>\n",
              "      <th>error_rate</th>\n",
              "      <th>time</th>\n",
              "    </tr>\n",
              "  </thead>\n",
              "  <tbody>\n",
              "    <tr>\n",
              "      <td>0</td>\n",
              "      <td>0.589775</td>\n",
              "      <td>0.932580</td>\n",
              "      <td>0.384615</td>\n",
              "      <td>00:02</td>\n",
              "    </tr>\n",
              "    <tr>\n",
              "      <td>1</td>\n",
              "      <td>0.833589</td>\n",
              "      <td>0.945716</td>\n",
              "      <td>0.384615</td>\n",
              "      <td>00:02</td>\n",
              "    </tr>\n",
              "    <tr>\n",
              "      <td>2</td>\n",
              "      <td>0.737357</td>\n",
              "      <td>0.899338</td>\n",
              "      <td>0.384615</td>\n",
              "      <td>00:02</td>\n",
              "    </tr>\n",
              "    <tr>\n",
              "      <td>3</td>\n",
              "      <td>0.782723</td>\n",
              "      <td>0.866502</td>\n",
              "      <td>0.384615</td>\n",
              "      <td>00:02</td>\n",
              "    </tr>\n",
              "    <tr>\n",
              "      <td>4</td>\n",
              "      <td>0.747861</td>\n",
              "      <td>0.879253</td>\n",
              "      <td>0.384615</td>\n",
              "      <td>00:02</td>\n",
              "    </tr>\n",
              "    <tr>\n",
              "      <td>5</td>\n",
              "      <td>0.813861</td>\n",
              "      <td>0.941849</td>\n",
              "      <td>0.384615</td>\n",
              "      <td>00:02</td>\n",
              "    </tr>\n",
              "    <tr>\n",
              "      <td>6</td>\n",
              "      <td>0.775656</td>\n",
              "      <td>0.985493</td>\n",
              "      <td>0.384615</td>\n",
              "      <td>00:02</td>\n",
              "    </tr>\n",
              "    <tr>\n",
              "      <td>7</td>\n",
              "      <td>0.745740</td>\n",
              "      <td>0.994010</td>\n",
              "      <td>0.384615</td>\n",
              "      <td>00:02</td>\n",
              "    </tr>\n",
              "    <tr>\n",
              "      <td>8</td>\n",
              "      <td>0.728974</td>\n",
              "      <td>1.012089</td>\n",
              "      <td>0.384615</td>\n",
              "      <td>00:02</td>\n",
              "    </tr>\n",
              "    <tr>\n",
              "      <td>9</td>\n",
              "      <td>0.693750</td>\n",
              "      <td>1.039548</td>\n",
              "      <td>0.384615</td>\n",
              "      <td>00:02</td>\n",
              "    </tr>\n",
              "    <tr>\n",
              "      <td>10</td>\n",
              "      <td>0.666984</td>\n",
              "      <td>1.070889</td>\n",
              "      <td>0.384615</td>\n",
              "      <td>00:02</td>\n",
              "    </tr>\n",
              "    <tr>\n",
              "      <td>11</td>\n",
              "      <td>0.652452</td>\n",
              "      <td>1.095995</td>\n",
              "      <td>0.384615</td>\n",
              "      <td>00:02</td>\n",
              "    </tr>\n",
              "    <tr>\n",
              "      <td>12</td>\n",
              "      <td>0.607952</td>\n",
              "      <td>1.148656</td>\n",
              "      <td>0.384615</td>\n",
              "      <td>00:02</td>\n",
              "    </tr>\n",
              "    <tr>\n",
              "      <td>13</td>\n",
              "      <td>0.580331</td>\n",
              "      <td>1.133293</td>\n",
              "      <td>0.307692</td>\n",
              "      <td>00:02</td>\n",
              "    </tr>\n",
              "    <tr>\n",
              "      <td>14</td>\n",
              "      <td>0.549797</td>\n",
              "      <td>1.037821</td>\n",
              "      <td>0.307692</td>\n",
              "      <td>00:02</td>\n",
              "    </tr>\n",
              "    <tr>\n",
              "      <td>15</td>\n",
              "      <td>0.529313</td>\n",
              "      <td>1.023236</td>\n",
              "      <td>0.230769</td>\n",
              "      <td>00:02</td>\n",
              "    </tr>\n",
              "    <tr>\n",
              "      <td>16</td>\n",
              "      <td>0.508711</td>\n",
              "      <td>1.017958</td>\n",
              "      <td>0.230769</td>\n",
              "      <td>00:02</td>\n",
              "    </tr>\n",
              "    <tr>\n",
              "      <td>17</td>\n",
              "      <td>0.484703</td>\n",
              "      <td>0.990610</td>\n",
              "      <td>0.230769</td>\n",
              "      <td>00:02</td>\n",
              "    </tr>\n",
              "    <tr>\n",
              "      <td>18</td>\n",
              "      <td>0.467561</td>\n",
              "      <td>0.960822</td>\n",
              "      <td>0.153846</td>\n",
              "      <td>00:02</td>\n",
              "    </tr>\n",
              "    <tr>\n",
              "      <td>19</td>\n",
              "      <td>0.447101</td>\n",
              "      <td>0.934207</td>\n",
              "      <td>0.153846</td>\n",
              "      <td>00:02</td>\n",
              "    </tr>\n",
              "    <tr>\n",
              "      <td>20</td>\n",
              "      <td>0.425823</td>\n",
              "      <td>0.931537</td>\n",
              "      <td>0.076923</td>\n",
              "      <td>00:02</td>\n",
              "    </tr>\n",
              "    <tr>\n",
              "      <td>21</td>\n",
              "      <td>0.410826</td>\n",
              "      <td>0.930496</td>\n",
              "      <td>0.076923</td>\n",
              "      <td>00:02</td>\n",
              "    </tr>\n",
              "    <tr>\n",
              "      <td>22</td>\n",
              "      <td>0.392097</td>\n",
              "      <td>0.946661</td>\n",
              "      <td>0.076923</td>\n",
              "      <td>00:02</td>\n",
              "    </tr>\n",
              "    <tr>\n",
              "      <td>23</td>\n",
              "      <td>0.385501</td>\n",
              "      <td>0.985868</td>\n",
              "      <td>0.076923</td>\n",
              "      <td>00:02</td>\n",
              "    </tr>\n",
              "    <tr>\n",
              "      <td>24</td>\n",
              "      <td>0.376985</td>\n",
              "      <td>1.002644</td>\n",
              "      <td>0.076923</td>\n",
              "      <td>00:02</td>\n",
              "    </tr>\n",
              "    <tr>\n",
              "      <td>25</td>\n",
              "      <td>0.366235</td>\n",
              "      <td>0.996481</td>\n",
              "      <td>0.076923</td>\n",
              "      <td>00:02</td>\n",
              "    </tr>\n",
              "    <tr>\n",
              "      <td>26</td>\n",
              "      <td>0.350420</td>\n",
              "      <td>0.997749</td>\n",
              "      <td>0.076923</td>\n",
              "      <td>00:02</td>\n",
              "    </tr>\n",
              "    <tr>\n",
              "      <td>27</td>\n",
              "      <td>0.338389</td>\n",
              "      <td>1.001791</td>\n",
              "      <td>0.076923</td>\n",
              "      <td>00:02</td>\n",
              "    </tr>\n",
              "    <tr>\n",
              "      <td>28</td>\n",
              "      <td>0.327873</td>\n",
              "      <td>0.996188</td>\n",
              "      <td>0.076923</td>\n",
              "      <td>00:02</td>\n",
              "    </tr>\n",
              "    <tr>\n",
              "      <td>29</td>\n",
              "      <td>0.324838</td>\n",
              "      <td>1.016055</td>\n",
              "      <td>0.076923</td>\n",
              "      <td>00:02</td>\n",
              "    </tr>\n",
              "    <tr>\n",
              "      <td>30</td>\n",
              "      <td>0.316595</td>\n",
              "      <td>1.039215</td>\n",
              "      <td>0.076923</td>\n",
              "      <td>00:02</td>\n",
              "    </tr>\n",
              "    <tr>\n",
              "      <td>31</td>\n",
              "      <td>0.304382</td>\n",
              "      <td>1.068168</td>\n",
              "      <td>0.076923</td>\n",
              "      <td>00:02</td>\n",
              "    </tr>\n",
              "    <tr>\n",
              "      <td>32</td>\n",
              "      <td>0.294495</td>\n",
              "      <td>1.091240</td>\n",
              "      <td>0.076923</td>\n",
              "      <td>00:02</td>\n",
              "    </tr>\n",
              "    <tr>\n",
              "      <td>33</td>\n",
              "      <td>0.283509</td>\n",
              "      <td>1.102939</td>\n",
              "      <td>0.076923</td>\n",
              "      <td>00:02</td>\n",
              "    </tr>\n",
              "    <tr>\n",
              "      <td>34</td>\n",
              "      <td>0.276297</td>\n",
              "      <td>1.107312</td>\n",
              "      <td>0.076923</td>\n",
              "      <td>00:02</td>\n",
              "    </tr>\n",
              "    <tr>\n",
              "      <td>35</td>\n",
              "      <td>0.267130</td>\n",
              "      <td>1.115515</td>\n",
              "      <td>0.076923</td>\n",
              "      <td>00:02</td>\n",
              "    </tr>\n",
              "    <tr>\n",
              "      <td>36</td>\n",
              "      <td>0.258122</td>\n",
              "      <td>1.121731</td>\n",
              "      <td>0.076923</td>\n",
              "      <td>00:02</td>\n",
              "    </tr>\n",
              "    <tr>\n",
              "      <td>37</td>\n",
              "      <td>0.253729</td>\n",
              "      <td>1.136826</td>\n",
              "      <td>0.076923</td>\n",
              "      <td>00:02</td>\n",
              "    </tr>\n",
              "    <tr>\n",
              "      <td>38</td>\n",
              "      <td>0.248865</td>\n",
              "      <td>1.180823</td>\n",
              "      <td>0.153846</td>\n",
              "      <td>00:02</td>\n",
              "    </tr>\n",
              "    <tr>\n",
              "      <td>39</td>\n",
              "      <td>0.244382</td>\n",
              "      <td>1.182022</td>\n",
              "      <td>0.153846</td>\n",
              "      <td>00:02</td>\n",
              "    </tr>\n",
              "    <tr>\n",
              "      <td>40</td>\n",
              "      <td>0.248507</td>\n",
              "      <td>1.194623</td>\n",
              "      <td>0.076923</td>\n",
              "      <td>00:02</td>\n",
              "    </tr>\n",
              "    <tr>\n",
              "      <td>41</td>\n",
              "      <td>0.243586</td>\n",
              "      <td>1.185071</td>\n",
              "      <td>0.076923</td>\n",
              "      <td>00:02</td>\n",
              "    </tr>\n",
              "    <tr>\n",
              "      <td>42</td>\n",
              "      <td>0.247154</td>\n",
              "      <td>1.197196</td>\n",
              "      <td>0.076923</td>\n",
              "      <td>00:02</td>\n",
              "    </tr>\n",
              "    <tr>\n",
              "      <td>43</td>\n",
              "      <td>0.241985</td>\n",
              "      <td>1.200958</td>\n",
              "      <td>0.076923</td>\n",
              "      <td>00:02</td>\n",
              "    </tr>\n",
              "    <tr>\n",
              "      <td>44</td>\n",
              "      <td>0.234396</td>\n",
              "      <td>1.214378</td>\n",
              "      <td>0.076923</td>\n",
              "      <td>00:02</td>\n",
              "    </tr>\n",
              "  </tbody>\n",
              "</table>"
            ]
          },
          "metadata": {}
        }
      ]
    },
    {
      "cell_type": "markdown",
      "metadata": {
        "id": "sCFfpP1sx_N0"
      },
      "source": [
        "#Результаты\n",
        "\n",
        "Предсказание для любого конкретного изображения"
      ]
    },
    {
      "cell_type": "code",
      "metadata": {
        "id": "_wYfzdXuyKXy",
        "colab": {
          "base_uri": "https://localhost:8080/",
          "height": 52
        },
        "outputId": "54595a15-fc79-48a5-b130-ae36c6f5e63a"
      },
      "source": [
        "learn.predict(files[21]), files[21]"
      ],
      "execution_count": 161,
      "outputs": [
        {
          "output_type": "display_data",
          "data": {
            "text/plain": [
              "<IPython.core.display.HTML object>"
            ],
            "text/html": [
              "\n",
              "<style>\n",
              "    /* Turns off some styling */\n",
              "    progress {\n",
              "        /* gets rid of default border in Firefox and Opera. */\n",
              "        border: none;\n",
              "        /* Needs to be in here for Safari polyfill so background images work as expected. */\n",
              "        background-size: auto;\n",
              "    }\n",
              "    .progress-bar-interrupted, .progress-bar-interrupted::-webkit-progress-bar {\n",
              "        background: #F44336;\n",
              "    }\n",
              "</style>\n"
            ]
          },
          "metadata": {}
        },
        {
          "output_type": "display_data",
          "data": {
            "text/plain": [
              "<IPython.core.display.HTML object>"
            ],
            "text/html": [
              ""
            ]
          },
          "metadata": {}
        },
        {
          "output_type": "execute_result",
          "data": {
            "text/plain": [
              "(('Healthy', TensorBase(0), TensorBase([9.9999e-01, 1.3220e-05])),\n",
              " Path('/content/gdrive/MyDrive/work/Pattern recognition/Practice_Diaphanoscopy/Healthy/1_650_L01.bmp'))"
            ]
          },
          "metadata": {},
          "execution_count": 161
        }
      ]
    },
    {
      "cell_type": "markdown",
      "metadata": {
        "id": "x0TZSoFByekY"
      },
      "source": [
        "Визуализация предсказаний."
      ]
    },
    {
      "cell_type": "code",
      "metadata": {
        "id": "UZKsIbzFyiMW",
        "colab": {
          "base_uri": "https://localhost:8080/",
          "height": 551
        },
        "outputId": "4e738f07-c7e9-467c-d68f-8b1533809124"
      },
      "source": [
        "learn.show_results()"
      ],
      "execution_count": 162,
      "outputs": [
        {
          "output_type": "display_data",
          "data": {
            "text/plain": [
              "<IPython.core.display.HTML object>"
            ],
            "text/html": [
              "\n",
              "<style>\n",
              "    /* Turns off some styling */\n",
              "    progress {\n",
              "        /* gets rid of default border in Firefox and Opera. */\n",
              "        border: none;\n",
              "        /* Needs to be in here for Safari polyfill so background images work as expected. */\n",
              "        background-size: auto;\n",
              "    }\n",
              "    .progress-bar-interrupted, .progress-bar-interrupted::-webkit-progress-bar {\n",
              "        background: #F44336;\n",
              "    }\n",
              "</style>\n"
            ]
          },
          "metadata": {}
        },
        {
          "output_type": "display_data",
          "data": {
            "text/plain": [
              "<IPython.core.display.HTML object>"
            ],
            "text/html": [
              ""
            ]
          },
          "metadata": {}
        },
        {
          "output_type": "display_data",
          "data": {
            "text/plain": [
              "<Figure size 648x648 with 9 Axes>"
            ],
            "image/png": "[encoded data removed]"
          },
          "metadata": {
            "needs_background": "light"
          }
        }
      ]
    },
    {
      "cell_type": "markdown",
      "source": [
        "Визуализация топа ошибок."
      ],
      "metadata": {
        "id": "tLQ8qS8vxTj4"
      }
    },
    {
      "cell_type": "code",
      "source": [
        "interp.plot_top_losses(4, nrows=1)"
      ],
      "metadata": {
        "id": "sNM6AAvAxSla",
        "colab": {
          "base_uri": "https://localhost:8080/",
          "height": 233
        },
        "outputId": "8029ed6c-fa26-47d2-89fd-14acc153dd1a"
      },
      "execution_count": 163,
      "outputs": [
        {
          "output_type": "display_data",
          "data": {
            "text/plain": [
              "<Figure size 864x216 with 4 Axes>"
            ],
            "image/png": "[encoded data removed]"
          },
          "metadata": {
            "needs_background": "light"
          }
        }
      ]
    },
    {
      "cell_type": "markdown",
      "metadata": {
        "id": "7pMcnBffKsZU"
      },
      "source": [
        "**Оценка точности**"
      ]
    },
    {
      "cell_type": "markdown",
      "metadata": {
        "id": "va_sKWwVmI1s"
      },
      "source": [
        "Матрица ошибок"
      ]
    },
    {
      "cell_type": "code",
      "metadata": {
        "id": "9RImudYiK0WA",
        "colab": {
          "base_uri": "https://localhost:8080/",
          "height": 311
        },
        "outputId": "21c09e5a-f0cc-4ab6-f7ec-0fbbb54806d4"
      },
      "source": [
        "interp = ClassificationInterpretation.from_learner(learn)\n",
        "interp.plot_confusion_matrix()"
      ],
      "execution_count": 164,
      "outputs": [
        {
          "output_type": "display_data",
          "data": {
            "text/plain": [
              "<IPython.core.display.HTML object>"
            ],
            "text/html": [
              "\n",
              "<style>\n",
              "    /* Turns off some styling */\n",
              "    progress {\n",
              "        /* gets rid of default border in Firefox and Opera. */\n",
              "        border: none;\n",
              "        /* Needs to be in here for Safari polyfill so background images work as expected. */\n",
              "        background-size: auto;\n",
              "    }\n",
              "    .progress-bar-interrupted, .progress-bar-interrupted::-webkit-progress-bar {\n",
              "        background: #F44336;\n",
              "    }\n",
              "</style>\n"
            ]
          },
          "metadata": {}
        },
        {
          "output_type": "display_data",
          "data": {
            "text/plain": [
              "<IPython.core.display.HTML object>"
            ],
            "text/html": [
              ""
            ]
          },
          "metadata": {}
        },
        {
          "output_type": "display_data",
          "data": {
            "text/plain": [
              "<Figure size 432x288 with 1 Axes>"
            ],
            "image/png": "[encoded data removed]"
          },
          "metadata": {
            "needs_background": "light"
          }
        }
      ]
    },
    {
      "cell_type": "code",
      "metadata": {
        "id": "uoR8uVA8LAQG",
        "colab": {
          "base_uri": "https://localhost:8080/"
        },
        "outputId": "2f12aa11-29e7-4130-df1d-6c4ad9e3ba38"
      },
      "source": [
        "upp, low = interp.confusion_matrix()\n",
        "tn, fp = upp[0], upp[1]\n",
        "fn, tp = low[0], low[1]\n",
        "print(tn, fp, fn, tp)"
      ],
      "execution_count": 165,
      "outputs": [
        {
          "output_type": "stream",
          "name": "stdout",
          "text": [
            "9 0 1 3\n"
          ]
        }
      ]
    },
    {
      "cell_type": "code",
      "metadata": {
        "id": "3YcNdBZoMWpf",
        "colab": {
          "base_uri": "https://localhost:8080/"
        },
        "outputId": "107fc219-a319-480e-cbae-4b1d0a0fe830"
      },
      "source": [
        "sensitivity = tp/(tp + fn)\n",
        "sensitivity"
      ],
      "execution_count": 166,
      "outputs": [
        {
          "output_type": "execute_result",
          "data": {
            "text/plain": [
              "0.75"
            ]
          },
          "metadata": {},
          "execution_count": 166
        }
      ]
    },
    {
      "cell_type": "markdown",
      "metadata": {
        "id": "IqJ0QAx-mPDO"
      },
      "source": [
        "Специфичность"
      ]
    },
    {
      "cell_type": "code",
      "metadata": {
        "id": "4akREHvdMY-8",
        "colab": {
          "base_uri": "https://localhost:8080/"
        },
        "outputId": "7d01f779-d999-40c5-b186-2060dd061f5c"
      },
      "source": [
        "specificity = tn/(fp + tn)\n",
        "specificity"
      ],
      "execution_count": 167,
      "outputs": [
        {
          "output_type": "execute_result",
          "data": {
            "text/plain": [
              "1.0"
            ]
          },
          "metadata": {},
          "execution_count": 167
        }
      ]
    },
    {
      "cell_type": "markdown",
      "metadata": {
        "id": "qtgxGyuoMtFm"
      },
      "source": [
        "Positive Predictive Value (PPV)"
      ]
    },
    {
      "cell_type": "code",
      "metadata": {
        "id": "5OvCRRlrMbKh",
        "colab": {
          "base_uri": "https://localhost:8080/"
        },
        "outputId": "f89acc9a-3638-4c16-a76a-4bb7a041e771"
      },
      "source": [
        "ppv = tp/(tp+fp)\n",
        "ppv"
      ],
      "execution_count": 168,
      "outputs": [
        {
          "output_type": "execute_result",
          "data": {
            "text/plain": [
              "1.0"
            ]
          },
          "metadata": {},
          "execution_count": 168
        }
      ]
    },
    {
      "cell_type": "markdown",
      "metadata": {
        "id": "3DGd02wfMuGK"
      },
      "source": [
        "Negative Predictive Value (NPV)"
      ]
    },
    {
      "cell_type": "code",
      "metadata": {
        "id": "W1nBNLwCMwkI",
        "colab": {
          "base_uri": "https://localhost:8080/"
        },
        "outputId": "745ba560-edf0-42b9-9719-1db92cfdfcca"
      },
      "source": [
        "npv = tn/(tn+fn)\n",
        "npv"
      ],
      "execution_count": 169,
      "outputs": [
        {
          "output_type": "execute_result",
          "data": {
            "text/plain": [
              "0.9"
            ]
          },
          "metadata": {},
          "execution_count": 169
        }
      ]
    },
    {
      "cell_type": "markdown",
      "metadata": {
        "id": "TCa10fEZMywE"
      },
      "source": [
        "Calculating Accuracy"
      ]
    },
    {
      "cell_type": "code",
      "metadata": {
        "id": "KWAE7oWyM1dU",
        "colab": {
          "base_uri": "https://localhost:8080/"
        },
        "outputId": "57fbc5ee-a39d-4af1-c576-3116c5eb0fbc"
      },
      "source": [
        "acc = (tp+tn)/(tp+tn+fp+fn)\n",
        "acc"
      ],
      "execution_count": 170,
      "outputs": [
        {
          "output_type": "execute_result",
          "data": {
            "text/plain": [
              "0.9230769230769231"
            ]
          },
          "metadata": {},
          "execution_count": 170
        }
      ]
    },
    {
      "cell_type": "markdown",
      "source": [
        "#Сохранение и повторное использование"
      ],
      "metadata": {
        "id": "iMT00F0cI3AD"
      }
    },
    {
      "cell_type": "markdown",
      "source": [
        "From the book:\n",
        "Remember that a model consists of two parts: the architecture and the trained parameters. The easiest way to save the model is to save both of these, because that way when you load a model you can be sure that you have the matching architecture and parameters. To save both parts, use the export method.\n",
        "\n",
        "This method even saves the definition of how to create your DataLoaders. This is important, because otherwise you would have to redefine how to transform your data in order to use your model in production. fastai automatically uses your validation set DataLoader for inference by default, so your data augmentation will not be applied, which is generally what you want.\n",
        "\n",
        "When you call export, fastai will save a file called \"export.pkl\":"
      ],
      "metadata": {
        "id": "bKMdmN7EyK61"
      }
    },
    {
      "cell_type": "markdown",
      "source": [
        "Сохранение обученной сети"
      ],
      "metadata": {
        "id": "tBVPBZxBT_gU"
      }
    },
    {
      "cell_type": "code",
      "source": [
        "learn.export()"
      ],
      "metadata": {
        "id": "fmT2-FgvyMT0"
      },
      "execution_count": 171,
      "outputs": []
    },
    {
      "cell_type": "markdown",
      "source": [
        "Проверка результатов сохранения"
      ],
      "metadata": {
        "id": "zTFkkNnEyjsn"
      }
    },
    {
      "cell_type": "code",
      "source": [
        "path = Path()\n",
        "path.ls(file_exts='.pkl')"
      ],
      "metadata": {
        "id": "oV_AOHKKymVH",
        "outputId": "94b49c05-24a2-492d-80bb-83e66b370909",
        "colab": {
          "base_uri": "https://localhost:8080/"
        }
      },
      "execution_count": 172,
      "outputs": [
        {
          "output_type": "execute_result",
          "data": {
            "text/plain": [
              "(#1) [Path('export.pkl')]"
            ]
          },
          "metadata": {},
          "execution_count": 172
        }
      ]
    },
    {
      "cell_type": "markdown",
      "source": [
        "Использование обученной сети для предсказаний на новых данных. "
      ],
      "metadata": {
        "id": "tpufK50byRH-"
      }
    },
    {
      "cell_type": "code",
      "source": [
        "learn_inf = load_learner(path/'export.pkl')"
      ],
      "metadata": {
        "id": "eXe6vzqC35c3"
      },
      "execution_count": 173,
      "outputs": []
    },
    {
      "cell_type": "code",
      "source": [
        "files_test = get_image_files(path/'Test')"
      ],
      "metadata": {
        "id": "4aaFwZce9lgS",
        "outputId": "b3f238d2-3538-4bc7-a179-84199afb5263",
        "colab": {
          "base_uri": "https://localhost:8080/",
          "height": 165
        }
      },
      "execution_count": 174,
      "outputs": [
        {
          "output_type": "error",
          "ename": "NameError",
          "evalue": "ignored",
          "traceback": [
            "\u001b[0;31m---------------------------------------------------------------------------\u001b[0m",
            "\u001b[0;31mNameError\u001b[0m                                 Traceback (most recent call last)",
            "\u001b[0;32m<ipython-input-174-cf7d231a364a>\u001b[0m in \u001b[0;36m<module>\u001b[0;34m()\u001b[0m\n\u001b[0;32m----> 1\u001b[0;31m \u001b[0mfiles_test\u001b[0m \u001b[0;34m=\u001b[0m \u001b[0mget_image_files\u001b[0m\u001b[0;34m(\u001b[0m\u001b[0mpath_all\u001b[0m\u001b[0;34m/\u001b[0m\u001b[0;34m'Test'\u001b[0m\u001b[0;34m)\u001b[0m\u001b[0;34m\u001b[0m\u001b[0;34m\u001b[0m\u001b[0m\n\u001b[0m",
            "\u001b[0;31mNameError\u001b[0m: name 'path_all' is not defined"
          ]
        }
      ]
    },
    {
      "cell_type": "code",
      "source": [
        "len(files_test)"
      ],
      "metadata": {
        "id": "5MdLd4df-VNY"
      },
      "execution_count": null,
      "outputs": []
    },
    {
      "cell_type": "markdown",
      "source": [
        "Предсказание на тестовых изображениях"
      ],
      "metadata": {
        "id": "HpHHDxTa_1Ln"
      }
    },
    {
      "cell_type": "markdown",
      "source": [
        "Одно изображение"
      ],
      "metadata": {
        "id": "pG_MVYmGBcmf"
      }
    },
    {
      "cell_type": "code",
      "source": [
        "learn_inf.predict(files_test[0])"
      ],
      "metadata": {
        "id": "r_OdbKqO-c42"
      },
      "execution_count": null,
      "outputs": []
    },
    {
      "cell_type": "markdown",
      "source": [
        "Вся папка"
      ],
      "metadata": {
        "id": "jjY6MYHlBfmP"
      }
    },
    {
      "cell_type": "code",
      "source": [
        "def func_accuracy(files_test):\n",
        "  tp, tn, fp, fn, acc = 0, 0, 0, 0, 0\n",
        "  feed = [0]*len(files_test)\n",
        "  pred = [0]*len(files_test)\n",
        "  gtrue = [0]*len(files_test)\n",
        "  labels_voc = learn_inf.dls.vocab # labels\n",
        "  for ind, o in enumerate(files_test):\n",
        "    feed[ind] = learn_inf.predict(o)\n",
        "    pred[ind] = labels_voc[feed[ind][-1].argmax()]\n",
        "    gtrue[ind] =feed[ind][0]\n",
        "    acc += int(gtrue[ind] == pred[ind])\n",
        "    #print(gtrue[ind], pred[ind])\n",
        "  return acc/len(files_test)"
      ],
      "metadata": {
        "id": "Gw6AWYl6Bjvd"
      },
      "execution_count": null,
      "outputs": []
    },
    {
      "cell_type": "code",
      "source": [
        "func_accuracy(files_test)"
      ],
      "metadata": {
        "id": "PrlO1hj0G1HR"
      },
      "execution_count": null,
      "outputs": []
    },
    {
      "cell_type": "markdown",
      "source": [
        "#Ссылки"
      ],
      "metadata": {
        "id": "kMHoqrpLKLCH"
      }
    },
    {
      "cell_type": "markdown",
      "metadata": {
        "id": "a7NdKNHgMeiq"
      },
      "source": [
        "\n",
        "\n",
        "https://github.com/avkornaev/Fast_AI_course/blob/main/02_production_v3_online.ipynb\n",
        "\n",
        "https://docs.fast.ai/tutorial.medical_imaging.html\n",
        "\n",
        "https://docs.fast.ai/data.block.html#DataBlock\n",
        "\n",
        "\n"
      ]
    }
  ]
}